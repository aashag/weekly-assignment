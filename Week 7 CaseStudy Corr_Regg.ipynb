{
 "cells": [
  {
   "cell_type": "markdown",
   "id": "a31b2dc2",
   "metadata": {},
   "source": [
    "# Case Study on Correlation and Regression"
   ]
  },
  {
   "cell_type": "code",
   "execution_count": 7,
   "id": "14d7557d",
   "metadata": {},
   "outputs": [],
   "source": [
    "import numpy as np\n",
    "import pandas as pd\n",
    "import matplotlib.pyplot as plt\n",
    "import seaborn as sns"
   ]
  },
  {
   "cell_type": "code",
   "execution_count": 8,
   "id": "3730cb3c",
   "metadata": {},
   "outputs": [],
   "source": [
    "advt=pd.read_csv('Add_sales_data_2018.csv')"
   ]
  },
  {
   "cell_type": "code",
   "execution_count": 9,
   "id": "ed0af8a9",
   "metadata": {
    "scrolled": true
   },
   "outputs": [
    {
     "data": {
      "text/html": [
       "<div>\n",
       "<style scoped>\n",
       "    .dataframe tbody tr th:only-of-type {\n",
       "        vertical-align: middle;\n",
       "    }\n",
       "\n",
       "    .dataframe tbody tr th {\n",
       "        vertical-align: top;\n",
       "    }\n",
       "\n",
       "    .dataframe thead th {\n",
       "        text-align: right;\n",
       "    }\n",
       "</style>\n",
       "<table border=\"1\" class=\"dataframe\">\n",
       "  <thead>\n",
       "    <tr style=\"text-align: right;\">\n",
       "      <th></th>\n",
       "      <th>Date</th>\n",
       "      <th>Add1(in Thousands)</th>\n",
       "      <th>Add2(in Thousands)</th>\n",
       "      <th>Add3(in Thousands)</th>\n",
       "      <th>Add4(in Thousands)</th>\n",
       "      <th>Add5(in Thousands)</th>\n",
       "      <th>Profit(in Thousands)</th>\n",
       "    </tr>\n",
       "  </thead>\n",
       "  <tbody>\n",
       "    <tr>\n",
       "      <th>0</th>\n",
       "      <td>2018-10-08</td>\n",
       "      <td>208.00</td>\n",
       "      <td>222.25</td>\n",
       "      <td>206.85</td>\n",
       "      <td>216.00</td>\n",
       "      <td>215.15</td>\n",
       "      <td>4093.065</td>\n",
       "    </tr>\n",
       "    <tr>\n",
       "      <th>1</th>\n",
       "      <td>2018-10-05</td>\n",
       "      <td>217.00</td>\n",
       "      <td>218.60</td>\n",
       "      <td>205.90</td>\n",
       "      <td>210.25</td>\n",
       "      <td>209.20</td>\n",
       "      <td>4042.448</td>\n",
       "    </tr>\n",
       "    <tr>\n",
       "      <th>2</th>\n",
       "      <td>2018-10-04</td>\n",
       "      <td>223.50</td>\n",
       "      <td>227.80</td>\n",
       "      <td>216.15</td>\n",
       "      <td>217.25</td>\n",
       "      <td>218.20</td>\n",
       "      <td>4213.819</td>\n",
       "    </tr>\n",
       "    <tr>\n",
       "      <th>3</th>\n",
       "      <td>2018-10-03</td>\n",
       "      <td>230.00</td>\n",
       "      <td>237.50</td>\n",
       "      <td>225.75</td>\n",
       "      <td>226.45</td>\n",
       "      <td>227.60</td>\n",
       "      <td>4391.665</td>\n",
       "    </tr>\n",
       "    <tr>\n",
       "      <th>4</th>\n",
       "      <td>2018-10-01</td>\n",
       "      <td>234.55</td>\n",
       "      <td>234.60</td>\n",
       "      <td>221.05</td>\n",
       "      <td>230.30</td>\n",
       "      <td>230.90</td>\n",
       "      <td>4350.683</td>\n",
       "    </tr>\n",
       "  </tbody>\n",
       "</table>\n",
       "</div>"
      ],
      "text/plain": [
       "         Date  Add1(in Thousands)  Add2(in Thousands)  Add3(in Thousands)  \\\n",
       "0  2018-10-08              208.00              222.25              206.85   \n",
       "1  2018-10-05              217.00              218.60              205.90   \n",
       "2  2018-10-04              223.50              227.80              216.15   \n",
       "3  2018-10-03              230.00              237.50              225.75   \n",
       "4  2018-10-01              234.55              234.60              221.05   \n",
       "\n",
       "   Add4(in Thousands)  Add5(in Thousands)  Profit(in Thousands)  \n",
       "0              216.00              215.15              4093.065  \n",
       "1              210.25              209.20              4042.448  \n",
       "2              217.25              218.20              4213.819  \n",
       "3              226.45              227.60              4391.665  \n",
       "4              230.30              230.90              4350.683  "
      ]
     },
     "execution_count": 9,
     "metadata": {},
     "output_type": "execute_result"
    }
   ],
   "source": [
    "advt.head()"
   ]
  },
  {
   "cell_type": "code",
   "execution_count": 8,
   "id": "47424dd2",
   "metadata": {},
   "outputs": [
    {
     "name": "stdout",
     "output_type": "stream",
     "text": [
      "<class 'pandas.core.frame.DataFrame'>\n",
      "RangeIndex: 205 entries, 0 to 204\n",
      "Data columns (total 7 columns):\n",
      " #   Column                Non-Null Count  Dtype  \n",
      "---  ------                --------------  -----  \n",
      " 0   Date                  205 non-null    object \n",
      " 1   Add1(in Thousands)    205 non-null    float64\n",
      " 2   Add2(in Thousands)    205 non-null    float64\n",
      " 3   Add3(in Thousands)    205 non-null    float64\n",
      " 4   Add4(in Thousands)    205 non-null    float64\n",
      " 5   Add5(in Thousands)    205 non-null    float64\n",
      " 6   Profit(in Thousands)  205 non-null    float64\n",
      "dtypes: float64(6), object(1)\n",
      "memory usage: 11.3+ KB\n"
     ]
    }
   ],
   "source": [
    "advt.info()"
   ]
  },
  {
   "cell_type": "code",
   "execution_count": 9,
   "id": "93a01a1a",
   "metadata": {},
   "outputs": [
    {
     "data": {
      "text/plain": [
       "(205, 7)"
      ]
     },
     "execution_count": 9,
     "metadata": {},
     "output_type": "execute_result"
    }
   ],
   "source": [
    "advt.shape"
   ]
  },
  {
   "cell_type": "markdown",
   "id": "a70163d4",
   "metadata": {},
   "source": [
    "**1.check whether there is any relationship between the amount spent for advertising through five different companies and profit generated.**"
   ]
  },
  {
   "cell_type": "code",
   "execution_count": 25,
   "id": "3171b95c",
   "metadata": {},
   "outputs": [],
   "source": [
    "# creating scatter plot to find the relationship.  "
   ]
  },
  {
   "cell_type": "code",
   "execution_count": 24,
   "id": "f1764fda",
   "metadata": {},
   "outputs": [
    {
     "data": {
      "text/plain": [
       "Text(0, 0.5, 'Profit')"
      ]
     },
     "execution_count": 24,
     "metadata": {},
     "output_type": "execute_result"
    },
    {
     "data": {
      "image/png": "[encoded data removed]",
      "text/plain": [
       "<Figure size 432x288 with 1 Axes>"
      ]
     },
     "metadata": {
      "needs_background": "light"
     },
     "output_type": "display_data"
    }
   ],
   "source": [
    "plt.figure(figsize=(6,4))\n",
    "plt.scatter(advt['Add1(in Thousands)'],advt['Profit(in Thousands)'],s=10,c='red')\n",
    "plt.title('Amount spend on advt1 Vs Profit',fontsize=10)\n",
    "plt.xlabel('Amount spend on advt1',fontsize=10)\n",
    "plt.ylabel('Profit',fontsize=10)"
   ]
  },
  {
   "cell_type": "code",
   "execution_count": 26,
   "id": "152c80fc",
   "metadata": {
    "scrolled": true
   },
   "outputs": [
    {
     "data": {
      "image/png": "[encoded data removed]",
      "text/plain": [
       "<Figure size 432x288 with 4 Axes>"
      ]
     },
     "metadata": {
      "needs_background": "light"
     },
     "output_type": "display_data"
    }
   ],
   "source": [
    "plt.figure(figsize=(6,4))\n",
    "\n",
    "plt.subplot(2,2,1)\n",
    "plt.scatter(advt['Add2(in Thousands)'],advt['Profit(in Thousands)'],s=10,c='red')\n",
    "plt.title('Amount spend on advt2 Vs Profit',fontsize=10)\n",
    "plt.xlabel('Amount spend on advt2',fontsize=10)\n",
    "plt.ylabel('Profit',fontsize=10)\n",
    "\n",
    "\n",
    "plt.subplot(2,2,2)\n",
    "plt.scatter(advt['Add3(in Thousands)'],advt['Profit(in Thousands)'],s=10,c='blue')\n",
    "plt.title('Amount spend on advt3 Vs Profit',fontsize=10)\n",
    "plt.xlabel('Amount spend on advt3',fontsize=10)\n",
    "plt.ylabel('Profit',fontsize=10)\n",
    "\n",
    "plt.subplot(2,2,3)\n",
    "plt.scatter(advt['Add4(in Thousands)'],advt['Profit(in Thousands)'],s=10,c='green')\n",
    "plt.title('Amount spend on advt4 Vs Profit',fontsize=10)\n",
    "plt.xlabel('Amount spend on advt4',fontsize=10)\n",
    "plt.ylabel('Profit',fontsize=10)\n",
    "\n",
    "plt.subplot(2,2,4)\n",
    "plt.scatter(advt['Add5(in Thousands)'],advt['Profit(in Thousands)'],s=10,c='orange')\n",
    "plt.title('Amount spend on advt5 Vs Profit',fontsize=10)\n",
    "plt.xlabel('Amount spend on advt5',fontsize=10)\n",
    "plt.ylabel('Profit',fontsize=10)\n",
    "\n",
    "plt.tight_layout()\n"
   ]
  },
  {
   "cell_type": "markdown",
   "id": "a0377c4f",
   "metadata": {},
   "source": [
    "**Insights:** "
   ]
  },
  {
   "cell_type": "markdown",
   "id": "045f47b3",
   "metadata": {},
   "source": [
    "**From the scatterplots we can see that there is a linear relationship between the amount spend for advertising through 5 companies and the profit generated OR there is a perfect positive correlation between them.**"
   ]
  },
  {
   "cell_type": "markdown",
   "id": "b29e699e",
   "metadata": {},
   "source": [
    "**2. Build a regression model to predict the profit from the given data and comment your findings on it.**"
   ]
  },
  {
   "cell_type": "code",
   "execution_count": 26,
   "id": "14637a55",
   "metadata": {},
   "outputs": [],
   "source": [
    "#To create a correlation matrix which shows the correlation coefficient between all the features(columns) in the data"
   ]
  },
  {
   "cell_type": "code",
   "execution_count": 31,
   "id": "fcd8ba2a",
   "metadata": {},
   "outputs": [
    {
     "data": {
      "text/plain": [
       "<AxesSubplot:>"
      ]
     },
     "execution_count": 31,
     "metadata": {},
     "output_type": "execute_result"
    },
    {
     "data": {
      "image/png": "[encoded data removed]",
      "text/plain": [
       "<Figure size 1080x432 with 2 Axes>"
      ]
     },
     "metadata": {
      "needs_background": "light"
     },
     "output_type": "display_data"
    }
   ],
   "source": [
    "\n",
    "corr_matrix=advt.corr()\n",
    "plt.subplots(figsize=(15,6))\n",
    "sns.heatmap(corr_matrix,vmin=0.95,vmax=1,annot=True,linewidth=0.2)"
   ]
  },
  {
   "cell_type": "code",
   "execution_count": 27,
   "id": "515610e5",
   "metadata": {},
   "outputs": [],
   "source": [
    "#Defining the data (x and y variables) to make a linear regression model"
   ]
  },
  {
   "cell_type": "code",
   "execution_count": 10,
   "id": "d555aad5",
   "metadata": {},
   "outputs": [],
   "source": [
    "y=advt['Profit(in Thousands)']\n",
    "x=advt.drop(['Profit(in Thousands)','Date'],axis=1)"
   ]
  },
  {
   "cell_type": "code",
   "execution_count": 45,
   "id": "5d267ddc",
   "metadata": {},
   "outputs": [
    {
     "data": {
      "text/plain": [
       "(205, 5)"
      ]
     },
     "execution_count": 45,
     "metadata": {},
     "output_type": "execute_result"
    }
   ],
   "source": [
    "x.shape"
   ]
  },
  {
   "cell_type": "code",
   "execution_count": 28,
   "id": "9c861334",
   "metadata": {},
   "outputs": [],
   "source": [
    "#Splitting the data for training and testing "
   ]
  },
  {
   "cell_type": "code",
   "execution_count": 11,
   "id": "921fe6a2",
   "metadata": {},
   "outputs": [],
   "source": [
    "from sklearn.model_selection import train_test_split\n",
    "x_train,x_test,y_train,y_test=train_test_split(x,y,random_state=42,test_size=0.25)"
   ]
  },
  {
   "cell_type": "code",
   "execution_count": 29,
   "id": "f56caf63",
   "metadata": {},
   "outputs": [],
   "source": [
    "#Creating a linear regression model"
   ]
  },
  {
   "cell_type": "code",
   "execution_count": 3,
   "id": "a3b07d13",
   "metadata": {},
   "outputs": [],
   "source": [
    "from sklearn import linear_model\n",
    "LR=linear_model.LinearRegression()"
   ]
  },
  {
   "cell_type": "code",
   "execution_count": 30,
   "id": "040cbc55",
   "metadata": {},
   "outputs": [],
   "source": [
    "#Fitting our data into the model"
   ]
  },
  {
   "cell_type": "code",
   "execution_count": 12,
   "id": "6ad92eb4",
   "metadata": {},
   "outputs": [],
   "source": [
    "Model=LR.fit(x_train,y_train)"
   ]
  },
  {
   "cell_type": "code",
   "execution_count": 31,
   "id": "fb8acf4a",
   "metadata": {},
   "outputs": [],
   "source": [
    "#Defining prediction which predicts the target value for the test data(x) "
   ]
  },
  {
   "cell_type": "code",
   "execution_count": null,
   "id": "e0cca439",
   "metadata": {},
   "outputs": [],
   "source": [
    "prediction=Model.predict(x_test)"
   ]
  },
  {
   "cell_type": "code",
   "execution_count": 33,
   "id": "fb802bd8",
   "metadata": {},
   "outputs": [],
   "source": [
    "#Printing the target values in our test data(y) for the test data(x)"
   ]
  },
  {
   "cell_type": "code",
   "execution_count": 22,
   "id": "aa1fb0d4",
   "metadata": {},
   "outputs": [
    {
     "name": "stdout",
     "output_type": "stream",
     "text": [
      "15     4152.066\n",
      "9      4446.441\n",
      "100    5131.898\n",
      "132    4907.560\n",
      "68     5004.282\n",
      "95     4623.793\n",
      "159    5384.175\n",
      "162    5328.025\n",
      "147    5175.051\n",
      "182    5956.323\n",
      "191    5780.799\n",
      "164    4997.719\n",
      "65     5075.858\n",
      "175    5784.540\n",
      "73     4936.120\n",
      "152    5065.652\n",
      "18     4190.965\n",
      "82     5034.726\n",
      "86     5015.536\n",
      "143    5134.657\n",
      "60     5145.131\n",
      "101    5421.940\n",
      "98     4569.293\n",
      "30     4598.292\n",
      "25     4436.321\n",
      "16     4175.677\n",
      "168    5616.791\n",
      "195    5667.250\n",
      "97     4648.834\n",
      "194    5717.838\n",
      "67     5001.615\n",
      "120    5182.368\n",
      "154    5017.503\n",
      "202    5545.013\n",
      "79     5013.207\n",
      "69     5030.451\n",
      "145    5108.626\n",
      "55     4760.877\n",
      "45     4606.340\n",
      "84     4925.861\n",
      "146    5250.788\n",
      "66     5038.222\n",
      "111    5491.792\n",
      "153    5019.997\n",
      "96     4647.356\n",
      "38     4486.380\n",
      "24     4435.174\n",
      "139    5300.437\n",
      "112    5425.190\n",
      "29     4482.183\n",
      "19     4193.095\n",
      "178    6062.457\n",
      "Name: Profit(in Thousands), dtype: float64\n"
     ]
    }
   ],
   "source": [
    "print(y_test)"
   ]
  },
  {
   "cell_type": "code",
   "execution_count": 34,
   "id": "7b098c4a",
   "metadata": {},
   "outputs": [],
   "source": [
    "#Printing the target values predicted by the model for our test data (x)"
   ]
  },
  {
   "cell_type": "code",
   "execution_count": 24,
   "id": "fc8562ff",
   "metadata": {},
   "outputs": [
    {
     "name": "stdout",
     "output_type": "stream",
     "text": [
      "[4152.066 4446.441 5131.898 4907.56  5004.282 4623.793 5384.175 5328.025\n",
      " 5175.051 5956.323 5780.799 4997.719 5075.858 5784.54  4936.12  5065.652\n",
      " 4190.965 5034.726 5015.536 5134.657 5145.131 5421.94  4569.293 4598.292\n",
      " 4436.321 4175.677 5616.791 5667.25  4648.834 5717.838 5001.615 5182.368\n",
      " 5017.503 5545.013 5013.207 5030.451 5108.626 4760.877 4606.34  4925.861\n",
      " 5250.788 5038.222 5491.792 5019.997 4647.356 4486.38  4435.174 5300.437\n",
      " 5425.19  4482.183 4193.095 6062.457]\n"
     ]
    }
   ],
   "source": [
    "print(prediction)"
   ]
  },
  {
   "cell_type": "code",
   "execution_count": 25,
   "id": "c101666e",
   "metadata": {},
   "outputs": [],
   "source": [
    "from sklearn.metrics import mean_squared_error"
   ]
  },
  {
   "cell_type": "code",
   "execution_count": 35,
   "id": "84240dda",
   "metadata": {},
   "outputs": [],
   "source": [
    "#Finding and printing the mean square error value "
   ]
  },
  {
   "cell_type": "code",
   "execution_count": 26,
   "id": "a310108d",
   "metadata": {},
   "outputs": [
    {
     "name": "stdout",
     "output_type": "stream",
     "text": [
      "MSE is : 6.362927788869444e-25\n"
     ]
    }
   ],
   "source": [
    "print(\"MSE is :\",mean_squared_error(y_test,prediction))"
   ]
  },
  {
   "cell_type": "markdown",
   "id": "a12121d5",
   "metadata": {},
   "source": [
    "**The mean square error value obtained for our linear regression model is negligible.So this model can be considered as a good one.**"
   ]
  },
  {
   "cell_type": "code",
   "execution_count": 40,
   "id": "8edf5b29",
   "metadata": {},
   "outputs": [],
   "source": [
    "#Finding the intercept and coefficients of the model."
   ]
  },
  {
   "cell_type": "code",
   "execution_count": 13,
   "id": "71a37989",
   "metadata": {},
   "outputs": [
    {
     "data": {
      "text/plain": [
       "9.094947017729282e-13"
      ]
     },
     "execution_count": 13,
     "metadata": {},
     "output_type": "execute_result"
    }
   ],
   "source": [
    "Model.intercept_"
   ]
  },
  {
   "cell_type": "code",
   "execution_count": 14,
   "id": "ce59e9ce",
   "metadata": {},
   "outputs": [
    {
     "data": {
      "text/plain": [
       "array([ 1.  , 12.38,  3.5 ,  1.  ,  0.9 ])"
      ]
     },
     "execution_count": 14,
     "metadata": {},
     "output_type": "execute_result"
    }
   ],
   "source": [
    "Model.coef_"
   ]
  },
  {
   "cell_type": "markdown",
   "id": "0838d4c4",
   "metadata": {},
   "source": [
    "**3. Predict the profit generated by the company, if they wish to spend the following amount for advertisement**\n",
    "\n",
    "\n",
    "\n",
    "\n"
   ]
  },
  {
   "cell_type": "markdown",
   "id": "55988b03",
   "metadata": {},
   "source": [
    "**Add1(in Thousands) - 290**"
   ]
  },
  {
   "cell_type": "markdown",
   "id": "66c05412",
   "metadata": {},
   "source": [
    "**Add2(in Thousands) - 312**"
   ]
  },
  {
   "cell_type": "markdown",
   "id": "38ded28d",
   "metadata": {},
   "source": [
    "**Add3(in Thousands) - 309**"
   ]
  },
  {
   "cell_type": "markdown",
   "id": "fd17b687",
   "metadata": {},
   "source": [
    "**Add4(in Thousands) - 298**"
   ]
  },
  {
   "cell_type": "markdown",
   "id": "586dedd0",
   "metadata": {},
   "source": [
    "**Add5(in Thousands) - 320**"
   ]
  },
  {
   "cell_type": "code",
   "execution_count": 36,
   "id": "9f96421f",
   "metadata": {},
   "outputs": [],
   "source": [
    "#Predicting target value for a given set of feature values using our model."
   ]
  },
  {
   "cell_type": "code",
   "execution_count": 17,
   "id": "4e02c008",
   "metadata": {},
   "outputs": [],
   "source": [
    "make_pred=[[290,312,309,298,320]]"
   ]
  },
  {
   "cell_type": "code",
   "execution_count": 37,
   "id": "fa94712a",
   "metadata": {},
   "outputs": [],
   "source": [
    "P=Model.predict(make_pred).item()"
   ]
  },
  {
   "cell_type": "code",
   "execution_count": 39,
   "id": "2bebe7b6",
   "metadata": {},
   "outputs": [
    {
     "data": {
      "text/plain": [
       "5820.060000000001"
      ]
     },
     "execution_count": 39,
     "metadata": {},
     "output_type": "execute_result"
    }
   ],
   "source": [
    "P"
   ]
  },
  {
   "cell_type": "code",
   "execution_count": 38,
   "id": "32b51f56",
   "metadata": {},
   "outputs": [
    {
     "name": "stdout",
     "output_type": "stream",
     "text": [
      "The predicted profit generated by the company for the given amount spend for advertisement is 5820.06 \n"
     ]
    }
   ],
   "source": [
    "print(\"The predicted profit generated by the company for the given amount spend for advertisement is %0.2f \"%P)"
   ]
  },
  {
   "cell_type": "code",
   "execution_count": null,
   "id": "b8de80fb",
   "metadata": {},
   "outputs": [],
   "source": []
  }
 ],
 "metadata": {
  "kernelspec": {
   "display_name": "Python 3",
   "language": "python",
   "name": "python3"
  },
  "language_info": {
   "codemirror_mode": {
    "name": "ipython",
    "version": 3
   },
   "file_extension": ".py",
   "mimetype": "text/x-python",
   "name": "python",
   "nbconvert_exporter": "python",
   "pygments_lexer": "ipython3",
   "version": "3.8.8"
  }
 },
 "nbformat": 4,
 "nbformat_minor": 5
}
